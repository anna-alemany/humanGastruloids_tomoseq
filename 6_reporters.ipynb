{
 "cells": [
  {
   "cell_type": "code",
   "execution_count": 1,
   "metadata": {},
   "outputs": [],
   "source": [
    "import glob"
   ]
  },
  {
   "cell_type": "code",
   "execution_count": 2,
   "metadata": {},
   "outputs": [
    {
     "name": "stdout",
     "output_type": "stream",
     "text": [
      "../reporters/SvdB13a1-1-Tomo-120hAA-hGstrlds10-19052018-ChiSB43_cbc_trimmed_reporters.coutt.tsv\r\n",
      "../reporters/SvdB13a1-2-Tomo-120hAA-hGstrlds79-19052018-ChiSB43_cbc_trimmed_reporters.coutt.tsv\r\n",
      "../reporters/SvdB13a1-3-Tomo-72hAA-hGstrlds43-56-17052018-Chi_cbc_trimmed_reporters.coutt.tsv\r\n"
     ]
    }
   ],
   "source": [
    "ls ../reporters/*coutt*"
   ]
  },
  {
   "cell_type": "code",
   "execution_count": 3,
   "metadata": {},
   "outputs": [],
   "source": [
    "path = '/Users/anna/Dropbox/gastruloids/WritingPapers/code4figures/figHuman/'"
   ]
  },
  {
   "cell_type": "markdown",
   "metadata": {},
   "source": [
    "# read files"
   ]
  },
  {
   "cell_type": "code",
   "execution_count": 4,
   "metadata": {},
   "outputs": [],
   "source": [
    "tdfg1 = read_csv('../hG03-20umAP-72h-Chi/mG03_trim_star_spliced.coutt.tsv', sep = '\\t', index_col=0)\n",
    "tdfg2 = read_csv('../hG04-20umAP-72h-Chi/mG04_trim_star_spliced.coutt.tsv', sep = '\\t', index_col=0)\n",
    "rdf = read_csv('../reporters/SvdB13a1-3-Tomo-72hAA-hGstrlds43-56-17052018-Chi_cbc_trimmed_reporters.coutt.tsv', sep = '\\t', index_col = 0)"
   ]
  },
  {
   "cell_type": "markdown",
   "metadata": {},
   "source": [
    "# get barcodes for each sample"
   ]
  },
  {
   "cell_type": "code",
   "execution_count": 5,
   "metadata": {},
   "outputs": [],
   "source": [
    "rdf.columns= [c.zfill(3) for c in rdf.columns]"
   ]
  },
  {
   "cell_type": "code",
   "execution_count": 6,
   "metadata": {},
   "outputs": [],
   "source": [
    "rdfg1 = rdf[tdfg1.columns]\n",
    "rdfg2 = rdf[tdfg2.columns]"
   ]
  },
  {
   "cell_type": "code",
   "execution_count": 7,
   "metadata": {},
   "outputs": [],
   "source": [
    "dfg1 = pd.concat([tdfg1, rdfg1])\n",
    "dfg2 = pd.concat([tdfg2, rdfg2])"
   ]
  },
  {
   "cell_type": "code",
   "execution_count": 8,
   "metadata": {},
   "outputs": [],
   "source": [
    "ndfg1 = dfg1.sum().median()*dfg1/dfg1.sum()\n",
    "ndfg2 = dfg2.sum().median()*dfg2/dfg2.sum()"
   ]
  },
  {
   "cell_type": "code",
   "execution_count": 9,
   "metadata": {},
   "outputs": [],
   "source": [
    "reporters = list(rdf.index)"
   ]
  },
  {
   "cell_type": "code",
   "execution_count": 10,
   "metadata": {},
   "outputs": [
    {
     "data": {
      "text/plain": [
       "['pUnivDonx-H2B-tdTomato-PGK-Neo-hSOX17arms',\n",
       " 'pUnivDon-H2B-mCerulean-PGK-Puro-hTrams',\n",
       " 'SOX2-mCitrine-T2A-Bsd']"
      ]
     },
     "execution_count": 10,
     "metadata": {},
     "output_type": "execute_result"
    }
   ],
   "source": [
    "reporters"
   ]
  },
  {
   "cell_type": "code",
   "execution_count": 11,
   "metadata": {},
   "outputs": [],
   "source": [
    "name_reporters = {'pUnivDonx-H2B-tdTomato-PGK-Neo-hSOX17arms': 'tdTomato',\n",
    "                 'pUnivDon-H2B-mCerulean-PGK-Puro-hTrams': 'mCerulean',\n",
    "                 'SOX2-mCitrine-T2A-Bsd': 'mCitrine'}"
   ]
  },
  {
   "cell_type": "code",
   "execution_count": 13,
   "metadata": {},
   "outputs": [
    {
     "data": {
      "image/png": "[encoded data removed]",
      "text/plain": [
       "<Figure size 720x504 with 6 Axes>"
      ]
     },
     "metadata": {},
     "output_type": "display_data"
    }
   ],
   "source": [
    "plt.figure(figsize=(10,7))\n",
    "j = 0 \n",
    "for i, df in enumerate([ndfg1, ndfg2]):\n",
    "    for reporter in reporters:\n",
    "        j += 1\n",
    "        plt.subplot(2,3,j)\n",
    "        plt.bar(range(len(df.columns)), df.loc[reporter])\n",
    "        plt.title(name_reporters[reporter] + ', hGst '+ str(i+1))\n",
    "        if j == 1 or j == 4:\n",
    "            plt.ylabel('normalized expression')\n",
    "        if j >= 4:\n",
    "            plt.xlabel('sections (A->P)')\n",
    "#plt.savefig(path + 'reporters_allmappedtogether_v1.pdf', bbox_inches = 'tight')           \n",
    "plt.show()"
   ]
  },
  {
   "cell_type": "code",
   "execution_count": 23,
   "metadata": {},
   "outputs": [
    {
     "data": {
      "text/plain": [
       "'/Users/anna/Dropbox/gastruloids/data/hGstl-tomo/notebooks'"
      ]
     },
     "execution_count": 23,
     "metadata": {},
     "output_type": "execute_result"
    }
   ],
   "source": [
    "pwd"
   ]
  },
  {
   "cell_type": "code",
   "execution_count": 26,
   "metadata": {},
   "outputs": [],
   "source": [
    "writer = pd.ExcelWriter('/Users/anna/Dropbox/gastruloids/WritingPapers/hGldPaper_Oct2019/source_data/fig2b.xlsx')"
   ]
  },
  {
   "cell_type": "code",
   "execution_count": 27,
   "metadata": {},
   "outputs": [],
   "source": [
    "(ndfg1.loc[reporters].T).to_excel(writer, sheet_name = 'gastruloid 1')"
   ]
  },
  {
   "cell_type": "code",
   "execution_count": 28,
   "metadata": {},
   "outputs": [],
   "source": [
    "(ndfg2.loc[reporters].T).to_excel(writer, sheet_name = 'gastruloid 2')"
   ]
  },
  {
   "cell_type": "code",
   "execution_count": 29,
   "metadata": {},
   "outputs": [],
   "source": [
    "writer.close()"
   ]
  },
  {
   "cell_type": "code",
   "execution_count": null,
   "metadata": {},
   "outputs": [],
   "source": []
  }
 ],
 "metadata": {
  "kernelspec": {
   "display_name": "Python 3",
   "language": "python",
   "name": "python3"
  },
  "language_info": {
   "codemirror_mode": {
    "name": "ipython",
    "version": 3
   },
   "file_extension": ".py",
   "mimetype": "text/x-python",
   "name": "python",
   "nbconvert_exporter": "python",
   "pygments_lexer": "ipython3",
   "version": "3.6.5"
  }
 },
 "nbformat": 4,
 "nbformat_minor": 2
}
